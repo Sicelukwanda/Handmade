{
 "cells": [
  {
   "cell_type": "code",
   "execution_count": null,
   "id": "aa583a51",
   "metadata": {},
   "outputs": [],
   "source": [
    "X = np.linspace(-3,3,N).reshape(N,1)\n",
    "def gauss_kern(x1,x2):\n",
    "    try:\n",
    "        return np.exp(-0.5*np.matmul((x1-x2).T,(x1-x2)))\n",
    "    except ValueError:\n",
    "        print(\"1:\",x1,\" 2:\",x2)\n",
    "        pdb.set_trace()\n"
   ]
  },
  {
   "cell_type": "code",
   "execution_count": null,
   "id": "2ca73aa4",
   "metadata": {},
   "outputs": [],
   "source": [
    "gauss_kern(X.T,X)"
   ]
  },
  {
   "cell_type": "code",
   "execution_count": 196,
   "id": "9dc3f303",
   "metadata": {},
   "outputs": [],
   "source": [
    "# mean\n",
    "k_x_star_X = build_K(x_,X)\n",
    "k_X_x_star = build_K(X,x_)\n",
    "k_x_star_x_star = build_K(x_,x_)\n",
    "Kxx = build_K(X,X)\n",
    "\n",
    "mu = (1/noise_var)*k_x_star_X @ Y - (1/noise_var)*k_x_star_X @np.linalg.solve(Kxx+(1/noise_var)*np.eye(X.shape[0]),np.matmul(Kxx,Y))"
   ]
  },
  {
   "cell_type": "code",
   "execution_count": 197,
   "id": "28341d2d",
   "metadata": {},
   "outputs": [],
   "source": [
    "# covariance matrix\n",
    "cov = k_x_star_x_star - k_x_star_X @ np.linalg.solve(Kxx+(1/noise_var)*np.eye(X.shape[0]),k_X_x_star) #+ (1/noise_var)*np.eye(x_.shape[0])"
   ]
  },
  {
   "cell_type": "code",
   "execution_count": null,
   "id": "dfbdc939",
   "metadata": {},
   "outputs": [],
   "source": []
  }
 ],
 "metadata": {
  "kernelspec": {
   "display_name": "Python 3",
   "language": "python",
   "name": "python3"
  },
  "language_info": {
   "codemirror_mode": {
    "name": "ipython",
    "version": 3
   },
   "file_extension": ".py",
   "mimetype": "text/x-python",
   "name": "python",
   "nbconvert_exporter": "python",
   "pygments_lexer": "ipython3",
   "version": "3.8.10"
  }
 },
 "nbformat": 4,
 "nbformat_minor": 5
}
